{
 "cells": [
  {
   "cell_type": "code",
   "execution_count": 1,
   "metadata": {},
   "outputs": [],
   "source": [
    "# necessary imports\n",
    "import numpy as np\n",
    "import matplotlib.pyplot as plt\n",
    "import obspy\n",
    "\n",
    "import DataStructures \n",
    "from DayOfData import SeismicData, save_the_waves\n",
    "from Signal import Signal \n",
    "\n",
    "import glob\n",
    "import pickle\n",
    "import pandas as pd\n",
    "\n",
    "import datetime\n",
    "import time\n",
    "\n",
    "import os"
   ]
  },
  {
   "cell_type": "markdown",
   "metadata": {},
   "source": [
    "### Seismic data analysis\n",
    "We will go over all of our seismic data through the lens of STA-LTA to detect seismic events. DataStructure.py makes the seismic catalogue easily accessible. We can also store the outputs in a convenient folder."
   ]
  },
  {
   "cell_type": "code",
   "execution_count": 2,
   "metadata": {},
   "outputs": [],
   "source": [
    "main_folder = 'G:\\contenu_D\\Gros-Morne\\\\'\n",
    "\n",
    "ds = DataStructures.SeisCompP()\n",
    "_ = ds.scan_directory(r'G:\\contenu_D\\Gros-Morne\\Pegasus')"
   ]
  },
  {
   "cell_type": "code",
   "execution_count": 3,
   "metadata": {},
   "outputs": [],
   "source": [
    "out_folder = 'output'\n",
    "try:\n",
    "    os.makedirs(out_folder)\n",
    "except OSError:\n",
    "    pass"
   ]
  },
  {
   "cell_type": "markdown",
   "metadata": {},
   "source": [
    "If we analyze every possible day, it will take a long time. We can define a proper window for our test analysis."
   ]
  },
  {
   "cell_type": "code",
   "execution_count": 4,
   "metadata": {},
   "outputs": [
    {
     "name": "stdout",
     "output_type": "stream",
     "text": [
      "Analyzing 2020-07-19T12:00:00.000000Z to 2020-07-20T00:00:00.000000Z, 4 out of 4"
     ]
    }
   ],
   "source": [
    "from obspy.clients.filesystem.sds import Client\n",
    "\n",
    "root_path = r'G:\\\\contenu_D\\\\Gros-Morne\\\\Pegasus'\n",
    "client = Client(root_path)\n",
    "\n",
    "from obspy.core import UTCDateTime\n",
    "t0 = UTCDateTime('2020-07-18')\n",
    "t1 = UTCDateTime('2020-07-20')\n",
    "\n",
    "dt = 3600 * 12\n",
    "ti = t0 + dt\n",
    "\n",
    "nbatch = (t1 - t0)/dt\n",
    "\n",
    "save_fmt = '%Y.%m.%d..%H.%M'\n",
    "\n",
    "i = 1\n",
    "while ti <= t1:\n",
    "    print(f'\\rAnalyzing {t0} to {ti}, {i} out of {nbatch:.0f}', end='')\n",
    "    sd = SeismicData(t0, ti - 1/1000, client)\n",
    "    windows = sd.multi_stalta(couples=((1, 60), (2.5, 60)),\n",
    "                                in_threshold=10,\n",
    "                                out_threshold=2,\n",
    "                                join_threshold=3,\n",
    "                                filter_kw=dict(N=5, btype='highpass', Wn=50, fs=1000))\n",
    "    waves = sd.partition_signal(windows)\n",
    "\n",
    "    path = os.path.join(out_folder, t0.datetime.strftime(save_fmt) + '_' + ti.datetime.strftime(save_fmt) + '.p')\n",
    "    save_the_waves(waves, path)\n",
    "\n",
    "    t0 = ti\n",
    "    ti += dt\n",
    "    i += 1\n",
    "\n",
    "\n"
   ]
  },
  {
   "cell_type": "markdown",
   "metadata": {},
   "source": [
    "We can now load the isolated waveforms to compute statistics on them. This could easily be paralellized using frameworks such as ``dask`` or ``multiprocessing``."
   ]
  },
  {
   "cell_type": "code",
   "execution_count": 5,
   "metadata": {},
   "outputs": [
    {
     "name": "stdout",
     "output_type": "stream",
     "text": [
      "File 4 out of 4, waveform 253 out of 253"
     ]
    }
   ],
   "source": [
    "df = pd.DataFrame()\n",
    "\n",
    "files = glob.glob(os.path.join(out_folder, '*.p'))\n",
    "\n",
    "for i, file in enumerate(files):\n",
    "    \n",
    "    with open(file, 'rb') as f:\n",
    "        waves = pickle.load(f)\n",
    "\n",
    "    for j, w in enumerate(waves):\n",
    "\n",
    "        print(f'\\rFile {i+1} out of {len(files)}, waveform {j+1} out of {len(waves)}', end='')\n",
    "        \n",
    "        try:\n",
    "            df = pd.concat([df, w.statistics()], ignore_index=True, axis=1)\n",
    "        except Exception as e:\n",
    "            df = pd.concat([df, pd.Series()], ignore_index=True, axis=1)\n",
    "            print(e)\n",
    "\n",
    "df = df.T\n",
    "\n",
    "df.index = df['DATE']\n",
    "df.index = pd.DatetimeIndex(df.index)\n",
    "df = df.drop('DATE', axis=1)\n",
    "\n",
    "df.to_csv(os.path.join(out_folder, 'waveform_data.csv'))\n"
   ]
  },
  {
   "cell_type": "code",
   "execution_count": 10,
   "metadata": {},
   "outputs": [],
   "source": [
    "# we can just load the data in case it was already computed\n",
    "df = pd.read_csv(os.path.join(out_folder, 'waveform_data.csv'))\n",
    "df.index = pd.DatetimeIndex(pd.to_datetime(df.iloc[:, 0])) - pd.Timedelta(hours=4)\n",
    "df = df.drop('DATE', axis=1)"
   ]
  },
  {
   "cell_type": "markdown",
   "metadata": {},
   "source": [
    "### Data analysis\n",
    "\n",
    "This is where the machine learning fun begins... anything can be done! Let's try PCA. We first need to do a little data preparation. We will take the $\\text{log}_{10}$ as well as standardizing the data. We also omit the computed polarization attributes (bearing and plunge) of every geophone as is done in the paper, but they could be kept in."
   ]
  },
  {
   "cell_type": "code",
   "execution_count": 11,
   "metadata": {},
   "outputs": [],
   "source": [
    "# We first take the logarithm of a few selected variables... Any transform can be done. The world is your oyster in machine learning.\n",
    "energy = df.columns.str.contains('ENERGY')\n",
    "other = df.columns.isin(['DUR', 'RISETIME', 'envMAX', 'envAREA', 'dftAVG', 'dftMAX', 'dftVAR'])\n",
    "islog = energy | other\n",
    "\n",
    "Xdf = df.copy()\n",
    "Xdf.loc[:, islog] = np.log10(Xdf.loc[:, islog])\n",
    "Xdf = (Xdf - Xdf.mean())/Xdf.std()\n",
    "Xdf = Xdf.dropna(how='any', axis=1)\n",
    "Xdf = Xdf.iloc[:, 6:]"
   ]
  },
  {
   "cell_type": "markdown",
   "metadata": {},
   "source": [
    "Let's try PCA!"
   ]
  },
  {
   "cell_type": "code",
   "execution_count": 13,
   "metadata": {},
   "outputs": [
    {
     "data": {
      "text/plain": [
       "(-10.0, 30.0)"
      ]
     },
     "execution_count": 13,
     "metadata": {},
     "output_type": "execute_result"
    },
    {
     "data": {
      "image/png": "[encoded data removed]",
      "text/plain": [
       "<Figure size 640x480 with 1 Axes>"
      ]
     },
     "metadata": {},
     "output_type": "display_data"
    },
    {
     "ename": "",
     "evalue": "",
     "output_type": "error",
     "traceback": [
      "\u001b[1;31mThe Kernel crashed while executing code in the current cell or a previous cell. \n",
      "\u001b[1;31mPlease review the code in the cell(s) to identify a possible cause of the failure. \n",
      "\u001b[1;31mClick <a href='https://aka.ms/vscodeJupyterKernelCrash'>here</a> for more info. \n",
      "\u001b[1;31mView Jupyter <a href='command:jupyter.viewOutput'>log</a> for further details."
     ]
    }
   ],
   "source": [
    "from sklearn.decomposition import PCA\n",
    "\n",
    "pca = PCA()\n",
    "X = pca.fit_transform(Xdf)\n",
    "plt.scatter(X[:, 0], X[:, 1], c='k', alpha=0.3, s=3)\n",
    "plt.gca().set_aspect(1)\n",
    "plt.xlim(-10, 15)\n",
    "plt.ylim(-10, 30)"
   ]
  },
  {
   "cell_type": "markdown",
   "metadata": {},
   "source": [
    "The PCA already looks similar to the figure produced on the entirety of the data. This is promising! Computing more points would help a lot. Let's go to the next notebook..."
   ]
  }
 ],
 "metadata": {
  "kernelspec": {
   "display_name": "passive seismic",
   "language": "python",
   "name": "python3"
  },
  "language_info": {
   "codemirror_mode": {
    "name": "ipython",
    "version": 3
   },
   "file_extension": ".py",
   "mimetype": "text/x-python",
   "name": "python",
   "nbconvert_exporter": "python",
   "pygments_lexer": "ipython3",
   "version": "3.8.5"
  }
 },
 "nbformat": 4,
 "nbformat_minor": 2
}
